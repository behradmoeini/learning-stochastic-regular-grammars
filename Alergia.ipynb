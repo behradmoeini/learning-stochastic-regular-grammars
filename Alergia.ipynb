{
 "cells": [
  {
   "cell_type": "code",
   "execution_count": 8,
   "metadata": {},
   "outputs": [
    {
     "name": "stdout",
     "output_type": "stream",
     "text": [
      "Collecting numpy\n",
      "  Downloading numpy-1.19.2-cp38-cp38-win_amd64.whl (13.0 MB)\n",
      "Installing collected packages: numpy\n"
     ]
    },
    {
     "name": "stderr",
     "output_type": "stream",
     "text": [
      "WARNING: You are using pip version 20.1.1; however, version 20.2.3 is available.\n",
      "You should consider upgrading via the 'c:\\users\\behrad\\appdata\\local\\programs\\python\\python38\\python.exe -m pip install --upgrade pip' command.\n"
     ]
    },
    {
     "name": "stdout",
     "output_type": "stream",
     "text": [
      "Successfully installed numpy-1.19.2\n",
      "Collecting automata-lib\n",
      "  Downloading automata_lib-4.0.0.post1-py3-none-any.whl (25 kB)\n",
      "Installing collected packages: automata-lib\n",
      "Successfully installed automata-lib-4.0.0.post1\n"
     ]
    },
    {
     "name": "stderr",
     "output_type": "stream",
     "text": [
      "WARNING: You are using pip version 20.1.1; however, version 20.2.3 is available.\n",
      "You should consider upgrading via the 'c:\\users\\behrad\\appdata\\local\\programs\\python\\python38\\python.exe -m pip install --upgrade pip' command.\n"
     ]
    }
   ],
   "source": [
    "!pip install numpy\n",
    "!pip install automata-lib"
   ]
  },
  {
   "cell_type": "code",
   "execution_count": 9,
   "metadata": {},
   "outputs": [],
   "source": [
    "import math\n",
    "import numpy as np"
   ]
  },
  {
   "cell_type": "code",
   "execution_count": 10,
   "metadata": {},
   "outputs": [
    {
     "data": {
      "text/plain": [
       "['0', '1', '00', '10', '11', '100', '101', '110', '1011', '10110']"
      ]
     },
     "execution_count": 10,
     "metadata": {},
     "output_type": "execute_result"
    }
   ],
   "source": [
    "S = [\"110\",\"\",\"\",\"\",\"0\", \"\", \"00\",\"00\",\"\",\"\",\"\",\"10110\",\"\",\"\",\"100\"]\n",
    "\n",
    "def merge(z, o):\n",
    "    pz = 0\n",
    "    po = 0\n",
    "    l = []\n",
    "    if o == []:\n",
    "        o = [\"\"];\n",
    "    if z == []:\n",
    "        z = [\"\"];\n",
    "    while pz < len(z) and po < len(o):\n",
    "#         print(pz, z, po, o)\n",
    "        if len(z[pz]) <= len(o[po]):\n",
    "                    \n",
    "                    l.append(z[pz])\n",
    "                    pz+= 1\n",
    "                    if(pz >= len(z)):\n",
    "                        l.extend(o[po:])\n",
    "                        break\n",
    "\n",
    "        elif len(z[pz]) > len(o[po]):\n",
    "            l.append(o[po])\n",
    "            po+= 1\n",
    "            if(po >= len(o)):\n",
    "                l.extend(z[pz:])\n",
    "                break\n",
    "    if \"\" in l: l.remove(\"\")\n",
    "    return l\n",
    "\n",
    "def build_list(s, u):\n",
    "    longest_string = max(s, key=len)\n",
    "    longest_string_len = (len(longest_string))\n",
    "    if len(u) > longest_string_len:\n",
    "        if [k for k in s if (u) in k]:\n",
    "            return [u]\n",
    "    zero = \"0\"\n",
    "    one = \"1\"\n",
    "    l = []\n",
    "    bz = []\n",
    "    bo = []\n",
    "#     print(s, u)\n",
    "    if any(st.startswith(u) for st in s):\n",
    "        l.append(u)\n",
    "    \n",
    "    if any(st.startswith(u+zero) for st in s):\n",
    "#         l.append(u + zero)\n",
    "        bz = build_list(s, u + zero)\n",
    "    \n",
    "    if any(st.startswith(u+one) for st in s):\n",
    "#         l.append(u + one)\n",
    "        bo = build_list(s, u + one)\n",
    "#         print(bo)\n",
    "    res = l + merge(bz, bo)\n",
    "    if \"\" in res: res.remove(\"\")\n",
    "    return res\n",
    "build_list(S,\"\")"
   ]
  },
  {
   "cell_type": "code",
   "execution_count": 11,
   "metadata": {},
   "outputs": [],
   "source": [
    "def lambdaCalc(alpha):\n",
    "    return math.sqrt((1/2)*math.log(2/alpha))"
   ]
  },
  {
   "cell_type": "code",
   "execution_count": 12,
   "metadata": {},
   "outputs": [],
   "source": [
    "def fill(s, i):\n",
    "    if len(s) < 1:\n",
    "        return [\"\"]*i\n",
    "    return list(s) + [\"\"]*(i - len(s))\n",
    "\n",
    "def order(s, S):\n",
    "    bl = build_list(S,\"\")\n",
    "    return bl.index(s) + 2\n",
    "#     return pow(2,len(s)) - 1 + int(s,2)\n",
    "def is_leaf(S):\n",
    "    if len(S) > 1:\n",
    "        if isinstance(S[1], list):\n",
    "            return False\n",
    "    if len(S[0]) == 1:\n",
    "        return True\n",
    "    if isinstance(S[0][1],list):\n",
    "        return False\n",
    "    return True\n",
    "\n",
    "def is_leaf2(S):\n",
    "    if len(S) > 1:\n",
    "        return False\n",
    "    if len(S[0]) == 2:\n",
    "        return True\n",
    "    if isinstance(S[0][1],list):\n",
    "        return False\n",
    "    return True\n",
    "\n",
    "def finished_here(s, d):\n",
    "#     print([s if len(s) == d for string in s])\n",
    "    result = list(filter(lambda string: len(string) == d+1, s))\n",
    "    return result\n",
    "\n",
    "def get_idx(n):\n",
    "    return n[2]"
   ]
  },
  {
   "cell_type": "code",
   "execution_count": 13,
   "metadata": {},
   "outputs": [],
   "source": [
    "transition_layer_num = 2#string - probability\n",
    "\n",
    "def binaryBuildPTA(S, d, ch):\n",
    "#     if len(set(S)) == 1:\n",
    "#         result = []\n",
    "#         result.append(fill(S, len(S)))\n",
    "#         return [result, ch];\n",
    "    longest_string = max(S, key=len)\n",
    "    longest_string_len = (len(longest_string))\n",
    "    if d >= longest_string_len:\n",
    "        result = []\n",
    "        result.append(S)\n",
    "#         print(\"result: \", result, list(S))\n",
    "        return result;\n",
    "    matrix = np.empty([len(S), longest_string_len], dtype = str)\n",
    "    for idx,s in enumerate(S):\n",
    "        matrix[idx,:] = fill(s, longest_string_len)\n",
    "    char_set = set(matrix[:,d])\n",
    "    if d >= 0:\n",
    "        if '' in char_set: char_set.remove('')\n",
    "\n",
    "    list_subtree = [];\n",
    "    end_nodes = len(S)\n",
    "#     print(\"matrix: \", matrix)\n",
    "    for k, c in enumerate(char_set):\n",
    "        include_c_string = [S[j] for j,st in enumerate(matrix[:,d]) if matrix[j,d]==c]\n",
    "#         print(include_c_string, d, np.sum([len(s) == d+1 for s in include_c_string]))\n",
    "        \n",
    "        end_nodes -= np.sum([len(s) == d+1 for s in include_c_string])\n",
    "#         list_subtree.append([c, binaryBuildPTA(include_c_string,d+1, str(ch + c)), len(include_c_string), order(ch+c, S)])\n",
    "        bpta = binaryBuildPTA(include_c_string,d+1, str(ch + c))\n",
    "        \n",
    "        list_subtree.append([str(ch + c), bpta, order(ch+c, all_strings), len(include_c_string), len(finished_here(include_c_string, d))])\n",
    "\n",
    "    if d ==0:\n",
    "        list_subtree = [\"\", list_subtree, 1, len(S), len(finished_here(S, d - 1))]\n",
    "#     print(list_subtree)\n",
    "    return list_subtree;"
   ]
  },
  {
   "cell_type": "code",
   "execution_count": 14,
   "metadata": {},
   "outputs": [
    {
     "data": {
      "text/plain": [
       "['',\n",
       " [['0', [['00', [['00', '00']], 4, 2, 2]], 2, 3, 1],\n",
       "  ['1',\n",
       "   [['10',\n",
       "     [['100', [['100']], 7, 1, 1],\n",
       "      ['101',\n",
       "       [['1011', [['10110', [['10110']], 11, 1, 1]], 10, 1, 0]],\n",
       "       8,\n",
       "       1,\n",
       "       0]],\n",
       "     5,\n",
       "     2,\n",
       "     0],\n",
       "    ['11', [['110', [['110']], 9, 1, 1]], 6, 1, 0]],\n",
       "   3,\n",
       "   3,\n",
       "   0]],\n",
       " 1,\n",
       " 15,\n",
       " 9]"
      ]
     },
     "execution_count": 14,
     "metadata": {},
     "output_type": "execute_result"
    }
   ],
   "source": [
    "s = [\"110\",\"\",\"\",\"\",\"0\", \"\", \"00\",\"00\",\"\",\"\",\"\",\"10110\",\"\",\"\",\"100\"]\n",
    "# s = np.array([\"00\",\"01\",\"10\",\"11\"])\n",
    "# s = np.array([\"0\",\"1\",\"\"])\n",
    "all_strings = s\n",
    "alpha = 0.8\n",
    "lambda_ = lambdaCalc(alpha);\n",
    "lambda_\n",
    "binaryBuildPTA(s, 0,\"\")"
   ]
  },
  {
   "cell_type": "code",
   "execution_count": null,
   "metadata": {},
   "outputs": [],
   "source": []
  },
  {
   "cell_type": "code",
   "execution_count": 15,
   "metadata": {},
   "outputs": [
    {
     "name": "stdout",
     "output_type": "stream",
     "text": [
      "{'q': {'0': {'q0'}, '1': {'q1'}}, 'q0': {'0': {'q00'}}, 'q1': {'0': {'q10'}, '1': {'q11'}}, 'q11': {'0': {'q110'}}, 'q10': {'0': {'q100'}, '1': {'q101'}}, 'q101': {'1': {'q1011'}}, 'q1011': {'0': {'q10110'}}}\n",
      "['q110', 'q0', 'q11', 'q10110', 'q', 'q10', 'q101', 'q1011', 'q1', 'q100', 'q00']\n"
     ]
    }
   ],
   "source": [
    "dict_empty = dict()\n",
    "def get_states(t):\n",
    "    if is_leaf(t):\n",
    "        return [\"q\"+t[0]]\n",
    "    l = [\"q\"+t[0]]\n",
    "    for tr in t[1]:\n",
    "        l = l + get_states(tr)\n",
    "    return list(set(l))\n",
    "\n",
    "bpta = binaryBuildPTA(S, 0,\"\")\n",
    "\n",
    "def get_transitions(s, input_symbols, d):\n",
    "    l = list(filter(lambda x: len(x) == d, s))\n",
    "    if len(l) == 0:\n",
    "        return dict_empty\n",
    "    transitions = dict()\n",
    "    for st in l:\n",
    "        nexts = dict()\n",
    "        for i in input_symbols:\n",
    "            if st + i in s:\n",
    "                nexts[i] = {st + i}\n",
    "        transitions[st] = nexts\n",
    "#     print(transitions)\n",
    "    transitions = {**transitions, **get_transitions(s, input_symbols, d + 1)}\n",
    "#     print(transitions)\n",
    "#     print(transitions)\n",
    "    transitions = {k: v for k, v in transitions.items() if v != dict_empty}\n",
    "    return transitions\n",
    "\n",
    "print(get_transitions(get_states(bpta), {\"0\", \"1\"}, 1))\n",
    "\n",
    "\n",
    "print(get_states(bpta))"
   ]
  },
  {
   "cell_type": "code",
   "execution_count": 16,
   "metadata": {},
   "outputs": [],
   "source": [
    "from automata.base.automaton import Automaton\n",
    "from automata.fa.fa import FA\n",
    "from automata.fa.nfa import NFA\n",
    "# NFA which matches all binary strings ending in an odd number of '1's\n",
    "nfa = NFA(\n",
    "    states=set(get_states(bpta)),\n",
    "    input_symbols={'0', '1'},\n",
    "    transitions=get_transitions(get_states(bpta), {\"0\", \"1\"}, 1),\n",
    "    initial_state=\"q\",\n",
    "    final_states=set(get_states(bpta))\n",
    ")"
   ]
  },
  {
   "cell_type": "code",
   "execution_count": 17,
   "metadata": {},
   "outputs": [
    {
     "data": {
      "text/plain": [
       "{'q': 9,\n",
       " 'q0': 1,\n",
       " 'q00': 2,\n",
       " 'q1': 0,\n",
       " 'q10': 0,\n",
       " 'q100': 1,\n",
       " 'q101': 0,\n",
       " 'q1011': 0,\n",
       " 'q10110': 1,\n",
       " 'q11': 0,\n",
       " 'q110': 1}"
      ]
     },
     "execution_count": 17,
     "metadata": {},
     "output_type": "execute_result"
    }
   ],
   "source": [
    "dict_empty = dict()\n",
    "\n",
    "def get_2(t):\n",
    "#     print(t)\n",
    "    if is_leaf(t):\n",
    "        return dict_empty\n",
    "    l = dict()\n",
    "    l[\"q\"+t[0]] = t[2]\n",
    "    for tr in t[1]:\n",
    "        l = {**l, **get_2(tr)}\n",
    "    return (l)\n",
    "\n",
    "def get_3(t):\n",
    "#     print(t)\n",
    "    if is_leaf(t):\n",
    "        return dict_empty\n",
    "    l = dict()\n",
    "    l[\"q\"+t[0]] = t[3]\n",
    "    for tr in t[1]:\n",
    "        l = {**l, **get_3(tr)}\n",
    "    return (l)\n",
    "\n",
    "def get_4(t):\n",
    "#     print(t)\n",
    "    if is_leaf(t):\n",
    "        return dict_empty\n",
    "    l = dict()\n",
    "    l[\"q\"+t[0]] = t[4]\n",
    "    for tr in t[1]:\n",
    "        l = {**l, **get_4(tr)}\n",
    "    return (l)\n",
    "\n",
    "get_4(bpta)"
   ]
  },
  {
   "cell_type": "code",
   "execution_count": 18,
   "metadata": {},
   "outputs": [],
   "source": [
    "def different(n1, fn1, n2, fn2):    \n",
    "    return abs(fn1/n1 - fn2/n2) > lambdaCalc(alpha)*(1/math.sqrt(n1) + 1/math.sqrt(n2))"
   ]
  },
  {
   "cell_type": "code",
   "execution_count": 20,
   "metadata": {},
   "outputs": [
    {
     "name": "stdout",
     "output_type": "stream",
     "text": [
      "['q110', 'q0', 'q11', 'q10110', 'q', 'q10', 'q101', 'q1011', 'q1', 'q100', 'q00'] {'q': {'0': {'q0'}, '1': {'q1'}}, 'q0': {'0': {'q00'}}, 'q1': {'0': {'q10'}, '1': {'q11'}}, 'q11': {'0': {'q110'}}, 'q10': {'0': {'q100'}, '1': {'q101'}}, 'q101': {'1': {'q1011'}}, 'q1011': {'0': {'q10110'}}} {'q': 1, 'q0': 2, 'q00': 4, 'q1': 3, 'q10': 5, 'q100': 7, 'q101': 8, 'q1011': 10, 'q10110': 11, 'q11': 6, 'q110': 9} {'q': 15, 'q0': 3, 'q00': 2, 'q1': 3, 'q10': 2, 'q100': 1, 'q101': 1, 'q1011': 1, 'q10110': 1, 'q11': 1, 'q110': 1} {'q': 9, 'q0': 1, 'q00': 2, 'q1': 0, 'q10': 0, 'q100': 1, 'q101': 0, 'q1011': 0, 'q10110': 1, 'q11': 0, 'q110': 1}\n",
      "{'q': {'0': {'q0'}, '1': {'q1'}}, 'q0': {'0': {'q00'}}, 'q1': {'0': {'q10'}, '1': {'q11'}}, 'q11': {'0': {'q110'}}, 'q10': {'0': {'q100'}, '1': {'q101'}}, 'q101': {'1': {'q1011'}}, 'q1011': {'0': {'q10110'}}}\n"
     ]
    },
    {
     "ename": "KeyError",
     "evalue": "'q110'",
     "output_type": "error",
     "traceback": [
      "\u001b[1;31m---------------------------------------------------------------------------\u001b[0m",
      "\u001b[1;31mKeyError\u001b[0m                                  Traceback (most recent call last)",
      "\u001b[1;32m<ipython-input-20-84249714cd76>\u001b[0m in \u001b[0;36m<module>\u001b[1;34m\u001b[0m\n\u001b[0;32m     46\u001b[0m \u001b[1;31m#S = np.array([\"00\",\"01\",\"10\",\"11\"])\u001b[0m\u001b[1;33m\u001b[0m\u001b[1;33m\u001b[0m\u001b[1;33m\u001b[0m\u001b[0m\n\u001b[0;32m     47\u001b[0m \u001b[0mall_strings\u001b[0m \u001b[1;33m=\u001b[0m \u001b[0mS\u001b[0m\u001b[1;33m\u001b[0m\u001b[1;33m\u001b[0m\u001b[0m\n\u001b[1;32m---> 48\u001b[1;33m \u001b[0mcompatible\u001b[0m\u001b[1;33m(\u001b[0m\u001b[0mnfa\u001b[0m\u001b[1;33m,\u001b[0m \u001b[0mstates\u001b[0m\u001b[1;33m,\u001b[0m \u001b[0mtransitions\u001b[0m\u001b[1;33m,\u001b[0m \u001b[0mget2\u001b[0m\u001b[1;33m,\u001b[0m \u001b[0mget3\u001b[0m\u001b[1;33m,\u001b[0m \u001b[0mget4\u001b[0m\u001b[1;33m,\u001b[0m \u001b[0mstates\u001b[0m\u001b[1;33m[\u001b[0m\u001b[1;36m0\u001b[0m\u001b[1;33m]\u001b[0m\u001b[1;33m,\u001b[0m \u001b[0mstates\u001b[0m\u001b[1;33m[\u001b[0m\u001b[1;36m1\u001b[0m\u001b[1;33m]\u001b[0m\u001b[1;33m)\u001b[0m\u001b[1;33m\u001b[0m\u001b[1;33m\u001b[0m\u001b[0m\n\u001b[0m",
      "\u001b[1;32m<ipython-input-20-84249714cd76>\u001b[0m in \u001b[0;36mcompatible\u001b[1;34m(nfa, states, transitions, get2, get3, get4, n1, n2)\u001b[0m\n\u001b[0;32m     11\u001b[0m         \u001b[1;32mreturn\u001b[0m \u001b[1;32mFalse\u001b[0m\u001b[1;33m\u001b[0m\u001b[1;33m\u001b[0m\u001b[0m\n\u001b[0;32m     12\u001b[0m     \u001b[0mprint\u001b[0m\u001b[1;33m(\u001b[0m\u001b[0mtransitions\u001b[0m\u001b[1;33m)\u001b[0m\u001b[1;33m\u001b[0m\u001b[1;33m\u001b[0m\u001b[0m\n\u001b[1;32m---> 13\u001b[1;33m     \u001b[0mchar_list1\u001b[0m \u001b[1;33m=\u001b[0m \u001b[0mtransitions\u001b[0m\u001b[1;33m[\u001b[0m\u001b[0mn1\u001b[0m\u001b[1;33m]\u001b[0m\u001b[1;33m.\u001b[0m\u001b[0mkeys\u001b[0m\u001b[1;33m(\u001b[0m\u001b[1;33m)\u001b[0m\u001b[1;31m#TODO ensemble this for different char lists\u001b[0m\u001b[1;33m\u001b[0m\u001b[1;33m\u001b[0m\u001b[0m\n\u001b[0m\u001b[0;32m     14\u001b[0m     \u001b[0mchar_list2\u001b[0m \u001b[1;33m=\u001b[0m \u001b[0mtransitions\u001b[0m\u001b[1;33m[\u001b[0m\u001b[0mn2\u001b[0m\u001b[1;33m]\u001b[0m\u001b[1;33m.\u001b[0m\u001b[0mkeys\u001b[0m\u001b[1;33m(\u001b[0m\u001b[1;33m)\u001b[0m\u001b[1;33m\u001b[0m\u001b[1;33m\u001b[0m\u001b[0m\n\u001b[0;32m     15\u001b[0m     \u001b[1;32mfor\u001b[0m \u001b[0mc\u001b[0m \u001b[1;32min\u001b[0m \u001b[0mchar_list1\u001b[0m\u001b[1;33m:\u001b[0m\u001b[1;33m\u001b[0m\u001b[1;33m\u001b[0m\u001b[0m\n",
      "\u001b[1;31mKeyError\u001b[0m: 'q110'"
     ]
    }
   ],
   "source": [
    "states = get_states(bpta)\n",
    "transitions = get_transitions(get_states(bpta), {\"0\", \"1\"}, 1)\n",
    "get2 = (get_2(bpta))\n",
    "get3 = (get_3(bpta))\n",
    "get4 = (get_4(bpta))\n",
    "\n",
    "print(states, transitions, get2, get3, get4)\n",
    "\n",
    "def compatible(nfa, states, transitions, get2, get3, get4, n1, n2):\n",
    "    if different(get3[n1], get4[n1], get3[n2], get4[n2]):\n",
    "        return False\n",
    "    print(transitions)\n",
    "    char_list1 = transitions[n1].keys()#TODO ensemble this for different char lists\n",
    "    char_list2 = transitions[n2].keys()\n",
    "    for c in char_list1:\n",
    "        e1 = e2 = False\n",
    "        try:\n",
    "            next_node1 = find_next(states, transitions, n1, c)\n",
    "        except Exception:\n",
    "            e1 = True\n",
    "        try:\n",
    "            next_node2 = find_next(states, transitions, n2, c)\n",
    "        except Exception:\n",
    "            e2 = True\n",
    "        if (e1) != (e2):\n",
    "            return False\n",
    "        elif not (e1 or e2):\n",
    "            if different(get3[next_node1], get4[next_node1], get3[next_node2], get4[next_node2]):\n",
    "                return False\n",
    "\n",
    "    return True\n",
    "\n",
    "def end_at_node(S, n):\n",
    "    return get_4(S)[n]\n",
    "\n",
    "def comes_to_node(S, n):\n",
    "    return get_3(S)[n]\n",
    "\n",
    "def find_next(states, transitions, state, c):\n",
    "    print(\"check\")\n",
    "    print(transitions)\n",
    "    print(state, c)\n",
    "    return list(transitions[state][c])[0]\n",
    "\n",
    "S = [\"110\",\"\",\"\",\"\",\"0\", \"\", \"00\",\"00\",\"\",\"\",\"\",\"10110\",\"\",\"\",\"100\"]\n",
    "#S = np.array([\"00\",\"01\",\"10\",\"11\"])\n",
    "all_strings = S\n",
    "compatible(nfa, states, transitions, get2, get3, get4, states[0], states[1])"
   ]
  },
  {
   "cell_type": "code",
   "execution_count": null,
   "metadata": {},
   "outputs": [],
   "source": [
    "def states_to_delete(transitions, s):\n",
    "    if s not in transitions:\n",
    "        return []\n",
    "    transition_set = transitions[s]\n",
    "    l = list(transition_set.values())\n",
    "    l.append(s)\n",
    "    for k in transition_set.values():\n",
    "        l += states_to_delete(transitions, list(k)[0])\n",
    "    return l\n",
    "\n",
    "def delete_and_successors(transitions, s):\n",
    "    to_delete_states = (states_to_delete(transitions, s))\n",
    "    for state in to_delete_states:\n",
    "        transitions.pop(state, None)\n",
    "    return transitions\n",
    "states = list(set(get_states(bpta)))\n",
    "transitions = get_transitions(get_states(bpta), {\"0\", \"1\"}, 1)\n",
    "s2 = \"q0\"\n",
    "delete_and_successors(transitions, s2)"
   ]
  },
  {
   "cell_type": "code",
   "execution_count": null,
   "metadata": {},
   "outputs": [],
   "source": [
    "states = list(set(get_states(bpta)))\n",
    "get2 = (get_2(bpta))\n",
    "get3 = (get_3(bpta))\n",
    "get4 = (get_4(bpta))\n",
    "\n",
    "\n",
    "s1 = \"q\"\n",
    "s2 = \"q0\"\n",
    "\n",
    "if compatible(nfa, states, transitions, get2, get3, get4, s1, s2):\n",
    "    states.remove(s2)\n",
    "    transitions = delete_and_successors(transitions, s2)\n",
    "\n",
    "    for key in transitions.keys():\n",
    "        for k in transitions[key].keys():\n",
    "            if list(transitions[key][k])[0] == s2:         \n",
    "                transitions[key][k] = s1\n",
    "\n",
    "print(states)\n",
    "print(transitions)"
   ]
  },
  {
   "cell_type": "code",
   "execution_count": null,
   "metadata": {},
   "outputs": [],
   "source": []
  },
  {
   "cell_type": "code",
   "execution_count": null,
   "metadata": {},
   "outputs": [],
   "source": []
  }
 ],
 "metadata": {
  "kernelspec": {
   "display_name": "Python 3",
   "language": "python",
   "name": "python3"
  },
  "language_info": {
   "codemirror_mode": {
    "name": "ipython",
    "version": 3
   },
   "file_extension": ".py",
   "mimetype": "text/x-python",
   "name": "python",
   "nbconvert_exporter": "python",
   "pygments_lexer": "ipython3",
   "version": "3.8.5"
  }
 },
 "nbformat": 4,
 "nbformat_minor": 4
}
